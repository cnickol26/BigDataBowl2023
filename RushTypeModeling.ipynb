{
 "cells": [
  {
   "cell_type": "code",
   "execution_count": 326,
   "metadata": {},
   "outputs": [],
   "source": [
    "import pandas as pd\n",
    "import numpy as np\n",
    "import pymc as pm\n",
    "import math"
   ]
  },
  {
   "cell_type": "code",
   "execution_count": 327,
   "metadata": {},
   "outputs": [
    {
     "name": "stderr",
     "output_type": "stream",
     "text": [
      "/var/folders/2k/10t0ng3n1pdd4bxjxwf5z3xw0000gn/T/ipykernel_75516/3063244417.py:1: DtypeWarning: Columns (22) have mixed types. Specify dtype option on import or set low_memory=False.\n",
      "  flipped = pd.read_csv(\"https://github.com/cnickol26/BigDataBowl2023/blob/main/data_flipped.csv?raw=true\")\n"
     ]
    },
    {
     "data": {
      "text/html": [
       "<div>\n",
       "<style scoped>\n",
       "    .dataframe tbody tr th:only-of-type {\n",
       "        vertical-align: middle;\n",
       "    }\n",
       "\n",
       "    .dataframe tbody tr th {\n",
       "        vertical-align: top;\n",
       "    }\n",
       "\n",
       "    .dataframe thead th {\n",
       "        text-align: right;\n",
       "    }\n",
       "</style>\n",
       "<table border=\"1\" class=\"dataframe\">\n",
       "  <thead>\n",
       "    <tr style=\"text-align: right;\">\n",
       "      <th></th>\n",
       "      <th>uniqueplayId</th>\n",
       "      <th>football_x</th>\n",
       "      <th>football_y</th>\n",
       "      <th>gameId</th>\n",
       "      <th>playId</th>\n",
       "      <th>nflId</th>\n",
       "      <th>frameId</th>\n",
       "      <th>time</th>\n",
       "      <th>jerseyNumber</th>\n",
       "      <th>team</th>\n",
       "      <th>...</th>\n",
       "      <th>dropBackType</th>\n",
       "      <th>pff_playAction</th>\n",
       "      <th>ball_snap_frame</th>\n",
       "      <th>new_x</th>\n",
       "      <th>new_y</th>\n",
       "      <th>chip_side</th>\n",
       "      <th>end_frame</th>\n",
       "      <th>Left_end</th>\n",
       "      <th>Right_end</th>\n",
       "      <th>Flip</th>\n",
       "    </tr>\n",
       "  </thead>\n",
       "  <tbody>\n",
       "    <tr>\n",
       "      <th>0</th>\n",
       "      <td>202109090097</td>\n",
       "      <td>41.56</td>\n",
       "      <td>23.92</td>\n",
       "      <td>2021090900</td>\n",
       "      <td>97</td>\n",
       "      <td>53441.0</td>\n",
       "      <td>6</td>\n",
       "      <td>2021-09-10 00:26:31</td>\n",
       "      <td>11.0</td>\n",
       "      <td>DAL</td>\n",
       "      <td>...</td>\n",
       "      <td>TRADITIONAL</td>\n",
       "      <td>0</td>\n",
       "      <td>6.0</td>\n",
       "      <td>2.12</td>\n",
       "      <td>-1.99</td>\n",
       "      <td>none</td>\n",
       "      <td>40.0</td>\n",
       "      <td>53441.0</td>\n",
       "      <td>42403.0</td>\n",
       "      <td>1</td>\n",
       "    </tr>\n",
       "    <tr>\n",
       "      <th>1</th>\n",
       "      <td>202109090097</td>\n",
       "      <td>41.56</td>\n",
       "      <td>23.92</td>\n",
       "      <td>2021090900</td>\n",
       "      <td>97</td>\n",
       "      <td>53441.0</td>\n",
       "      <td>7</td>\n",
       "      <td>2021-09-10 00:26:31</td>\n",
       "      <td>11.0</td>\n",
       "      <td>DAL</td>\n",
       "      <td>...</td>\n",
       "      <td>TRADITIONAL</td>\n",
       "      <td>0</td>\n",
       "      <td>6.0</td>\n",
       "      <td>2.06</td>\n",
       "      <td>-1.96</td>\n",
       "      <td>none</td>\n",
       "      <td>40.0</td>\n",
       "      <td>53441.0</td>\n",
       "      <td>42403.0</td>\n",
       "      <td>1</td>\n",
       "    </tr>\n",
       "    <tr>\n",
       "      <th>2</th>\n",
       "      <td>202109090097</td>\n",
       "      <td>41.56</td>\n",
       "      <td>23.92</td>\n",
       "      <td>2021090900</td>\n",
       "      <td>97</td>\n",
       "      <td>53441.0</td>\n",
       "      <td>8</td>\n",
       "      <td>2021-09-10 00:26:31</td>\n",
       "      <td>11.0</td>\n",
       "      <td>DAL</td>\n",
       "      <td>...</td>\n",
       "      <td>TRADITIONAL</td>\n",
       "      <td>0</td>\n",
       "      <td>6.0</td>\n",
       "      <td>1.96</td>\n",
       "      <td>-1.91</td>\n",
       "      <td>none</td>\n",
       "      <td>40.0</td>\n",
       "      <td>53441.0</td>\n",
       "      <td>42403.0</td>\n",
       "      <td>1</td>\n",
       "    </tr>\n",
       "    <tr>\n",
       "      <th>3</th>\n",
       "      <td>202109090097</td>\n",
       "      <td>41.56</td>\n",
       "      <td>23.92</td>\n",
       "      <td>2021090900</td>\n",
       "      <td>97</td>\n",
       "      <td>53441.0</td>\n",
       "      <td>9</td>\n",
       "      <td>2021-09-10 00:26:31</td>\n",
       "      <td>11.0</td>\n",
       "      <td>DAL</td>\n",
       "      <td>...</td>\n",
       "      <td>TRADITIONAL</td>\n",
       "      <td>0</td>\n",
       "      <td>6.0</td>\n",
       "      <td>1.80</td>\n",
       "      <td>-1.85</td>\n",
       "      <td>none</td>\n",
       "      <td>40.0</td>\n",
       "      <td>53441.0</td>\n",
       "      <td>42403.0</td>\n",
       "      <td>1</td>\n",
       "    </tr>\n",
       "    <tr>\n",
       "      <th>4</th>\n",
       "      <td>202109090097</td>\n",
       "      <td>41.56</td>\n",
       "      <td>23.92</td>\n",
       "      <td>2021090900</td>\n",
       "      <td>97</td>\n",
       "      <td>53441.0</td>\n",
       "      <td>10</td>\n",
       "      <td>2021-09-10 00:26:32</td>\n",
       "      <td>11.0</td>\n",
       "      <td>DAL</td>\n",
       "      <td>...</td>\n",
       "      <td>TRADITIONAL</td>\n",
       "      <td>0</td>\n",
       "      <td>6.0</td>\n",
       "      <td>1.56</td>\n",
       "      <td>-1.72</td>\n",
       "      <td>none</td>\n",
       "      <td>40.0</td>\n",
       "      <td>53441.0</td>\n",
       "      <td>42403.0</td>\n",
       "      <td>1</td>\n",
       "    </tr>\n",
       "    <tr>\n",
       "      <th>...</th>\n",
       "      <td>...</td>\n",
       "      <td>...</td>\n",
       "      <td>...</td>\n",
       "      <td>...</td>\n",
       "      <td>...</td>\n",
       "      <td>...</td>\n",
       "      <td>...</td>\n",
       "      <td>...</td>\n",
       "      <td>...</td>\n",
       "      <td>...</td>\n",
       "      <td>...</td>\n",
       "      <td>...</td>\n",
       "      <td>...</td>\n",
       "      <td>...</td>\n",
       "      <td>...</td>\n",
       "      <td>...</td>\n",
       "      <td>...</td>\n",
       "      <td>...</td>\n",
       "      <td>...</td>\n",
       "      <td>...</td>\n",
       "      <td>...</td>\n",
       "    </tr>\n",
       "    <tr>\n",
       "      <th>1374366</th>\n",
       "      <td>20211025003926</td>\n",
       "      <td>85.95</td>\n",
       "      <td>23.68</td>\n",
       "      <td>2021102500</td>\n",
       "      <td>3926</td>\n",
       "      <td>NaN</td>\n",
       "      <td>45</td>\n",
       "      <td>2021-10-26 03:14:08</td>\n",
       "      <td>NaN</td>\n",
       "      <td>football</td>\n",
       "      <td>...</td>\n",
       "      <td>TRADITIONAL</td>\n",
       "      <td>0</td>\n",
       "      <td>7.0</td>\n",
       "      <td>7.18</td>\n",
       "      <td>3.67</td>\n",
       "      <td>none</td>\n",
       "      <td>44.0</td>\n",
       "      <td>37097.0</td>\n",
       "      <td>46083.0</td>\n",
       "      <td>0</td>\n",
       "    </tr>\n",
       "    <tr>\n",
       "      <th>1374367</th>\n",
       "      <td>20211025003926</td>\n",
       "      <td>85.95</td>\n",
       "      <td>23.68</td>\n",
       "      <td>2021102500</td>\n",
       "      <td>3926</td>\n",
       "      <td>NaN</td>\n",
       "      <td>46</td>\n",
       "      <td>2021-10-26 03:14:08</td>\n",
       "      <td>NaN</td>\n",
       "      <td>football</td>\n",
       "      <td>...</td>\n",
       "      <td>TRADITIONAL</td>\n",
       "      <td>0</td>\n",
       "      <td>7.0</td>\n",
       "      <td>7.22</td>\n",
       "      <td>3.89</td>\n",
       "      <td>none</td>\n",
       "      <td>44.0</td>\n",
       "      <td>37097.0</td>\n",
       "      <td>46083.0</td>\n",
       "      <td>0</td>\n",
       "    </tr>\n",
       "    <tr>\n",
       "      <th>1374368</th>\n",
       "      <td>20211025003926</td>\n",
       "      <td>85.95</td>\n",
       "      <td>23.68</td>\n",
       "      <td>2021102500</td>\n",
       "      <td>3926</td>\n",
       "      <td>NaN</td>\n",
       "      <td>47</td>\n",
       "      <td>2021-10-26 03:14:09</td>\n",
       "      <td>NaN</td>\n",
       "      <td>football</td>\n",
       "      <td>...</td>\n",
       "      <td>TRADITIONAL</td>\n",
       "      <td>0</td>\n",
       "      <td>7.0</td>\n",
       "      <td>7.27</td>\n",
       "      <td>4.08</td>\n",
       "      <td>none</td>\n",
       "      <td>44.0</td>\n",
       "      <td>37097.0</td>\n",
       "      <td>46083.0</td>\n",
       "      <td>0</td>\n",
       "    </tr>\n",
       "    <tr>\n",
       "      <th>1374369</th>\n",
       "      <td>20211025003926</td>\n",
       "      <td>85.95</td>\n",
       "      <td>23.68</td>\n",
       "      <td>2021102500</td>\n",
       "      <td>3926</td>\n",
       "      <td>NaN</td>\n",
       "      <td>48</td>\n",
       "      <td>2021-10-26 03:14:09</td>\n",
       "      <td>NaN</td>\n",
       "      <td>football</td>\n",
       "      <td>...</td>\n",
       "      <td>TRADITIONAL</td>\n",
       "      <td>0</td>\n",
       "      <td>7.0</td>\n",
       "      <td>7.31</td>\n",
       "      <td>4.26</td>\n",
       "      <td>none</td>\n",
       "      <td>44.0</td>\n",
       "      <td>37097.0</td>\n",
       "      <td>46083.0</td>\n",
       "      <td>0</td>\n",
       "    </tr>\n",
       "    <tr>\n",
       "      <th>1374370</th>\n",
       "      <td>20211025003926</td>\n",
       "      <td>85.95</td>\n",
       "      <td>23.68</td>\n",
       "      <td>2021102500</td>\n",
       "      <td>3926</td>\n",
       "      <td>NaN</td>\n",
       "      <td>49</td>\n",
       "      <td>2021-10-26 03:14:09</td>\n",
       "      <td>NaN</td>\n",
       "      <td>football</td>\n",
       "      <td>...</td>\n",
       "      <td>TRADITIONAL</td>\n",
       "      <td>0</td>\n",
       "      <td>7.0</td>\n",
       "      <td>7.36</td>\n",
       "      <td>4.41</td>\n",
       "      <td>none</td>\n",
       "      <td>44.0</td>\n",
       "      <td>37097.0</td>\n",
       "      <td>46083.0</td>\n",
       "      <td>0</td>\n",
       "    </tr>\n",
       "  </tbody>\n",
       "</table>\n",
       "<p>1374371 rows × 33 columns</p>\n",
       "</div>"
      ],
      "text/plain": [
       "           uniqueplayId  football_x  football_y      gameId  playId    nflId  \\\n",
       "0          202109090097       41.56       23.92  2021090900      97  53441.0   \n",
       "1          202109090097       41.56       23.92  2021090900      97  53441.0   \n",
       "2          202109090097       41.56       23.92  2021090900      97  53441.0   \n",
       "3          202109090097       41.56       23.92  2021090900      97  53441.0   \n",
       "4          202109090097       41.56       23.92  2021090900      97  53441.0   \n",
       "...                 ...         ...         ...         ...     ...      ...   \n",
       "1374366  20211025003926       85.95       23.68  2021102500    3926      NaN   \n",
       "1374367  20211025003926       85.95       23.68  2021102500    3926      NaN   \n",
       "1374368  20211025003926       85.95       23.68  2021102500    3926      NaN   \n",
       "1374369  20211025003926       85.95       23.68  2021102500    3926      NaN   \n",
       "1374370  20211025003926       85.95       23.68  2021102500    3926      NaN   \n",
       "\n",
       "         frameId                 time  jerseyNumber      team  ...  \\\n",
       "0              6  2021-09-10 00:26:31          11.0       DAL  ...   \n",
       "1              7  2021-09-10 00:26:31          11.0       DAL  ...   \n",
       "2              8  2021-09-10 00:26:31          11.0       DAL  ...   \n",
       "3              9  2021-09-10 00:26:31          11.0       DAL  ...   \n",
       "4             10  2021-09-10 00:26:32          11.0       DAL  ...   \n",
       "...          ...                  ...           ...       ...  ...   \n",
       "1374366       45  2021-10-26 03:14:08           NaN  football  ...   \n",
       "1374367       46  2021-10-26 03:14:08           NaN  football  ...   \n",
       "1374368       47  2021-10-26 03:14:09           NaN  football  ...   \n",
       "1374369       48  2021-10-26 03:14:09           NaN  football  ...   \n",
       "1374370       49  2021-10-26 03:14:09           NaN  football  ...   \n",
       "\n",
       "        dropBackType  pff_playAction  ball_snap_frame  new_x  new_y  \\\n",
       "0        TRADITIONAL               0              6.0   2.12  -1.99   \n",
       "1        TRADITIONAL               0              6.0   2.06  -1.96   \n",
       "2        TRADITIONAL               0              6.0   1.96  -1.91   \n",
       "3        TRADITIONAL               0              6.0   1.80  -1.85   \n",
       "4        TRADITIONAL               0              6.0   1.56  -1.72   \n",
       "...              ...             ...              ...    ...    ...   \n",
       "1374366  TRADITIONAL               0              7.0   7.18   3.67   \n",
       "1374367  TRADITIONAL               0              7.0   7.22   3.89   \n",
       "1374368  TRADITIONAL               0              7.0   7.27   4.08   \n",
       "1374369  TRADITIONAL               0              7.0   7.31   4.26   \n",
       "1374370  TRADITIONAL               0              7.0   7.36   4.41   \n",
       "\n",
       "         chip_side  end_frame  Left_end Right_end Flip  \n",
       "0             none       40.0   53441.0   42403.0    1  \n",
       "1             none       40.0   53441.0   42403.0    1  \n",
       "2             none       40.0   53441.0   42403.0    1  \n",
       "3             none       40.0   53441.0   42403.0    1  \n",
       "4             none       40.0   53441.0   42403.0    1  \n",
       "...            ...        ...       ...       ...  ...  \n",
       "1374366       none       44.0   37097.0   46083.0    0  \n",
       "1374367       none       44.0   37097.0   46083.0    0  \n",
       "1374368       none       44.0   37097.0   46083.0    0  \n",
       "1374369       none       44.0   37097.0   46083.0    0  \n",
       "1374370       none       44.0   37097.0   46083.0    0  \n",
       "\n",
       "[1374371 rows x 33 columns]"
      ]
     },
     "execution_count": 327,
     "metadata": {},
     "output_type": "execute_result"
    }
   ],
   "source": [
    "flipped = pd.read_csv(\"https://github.com/cnickol26/BigDataBowl2023/blob/main/data_flipped.csv?raw=true\")\n",
    "flipped"
   ]
  },
  {
   "cell_type": "code",
   "execution_count": 328,
   "metadata": {},
   "outputs": [],
   "source": [
    "frames_per_play = flipped[flipped['pff_positionLinedUp']=='QB'].groupby('uniqueplayId', as_index=False).size().rename(columns={'size':'play_length_frames'})"
   ]
  },
  {
   "cell_type": "code",
   "execution_count": 329,
   "metadata": {},
   "outputs": [],
   "source": [
    "flipped = flipped.merge(frames_per_play, on='uniqueplayId', how='left')"
   ]
  },
  {
   "cell_type": "code",
   "execution_count": 330,
   "metadata": {},
   "outputs": [
    {
     "data": {
      "text/plain": [
       "16.0"
      ]
     },
     "execution_count": 330,
     "metadata": {},
     "output_type": "execute_result"
    }
   ],
   "source": [
    "flipped['play_length_frames'].min()"
   ]
  },
  {
   "cell_type": "code",
   "execution_count": 331,
   "metadata": {},
   "outputs": [
    {
     "data": {
      "text/plain": [
       "Index(['uniqueplayId', 'football_x', 'football_y', 'gameId', 'playId', 'nflId',\n",
       "       'frameId', 'time', 'jerseyNumber', 'team', 'playDirection', 'x', 'y',\n",
       "       's', 'a', 'dis', 'o', 'dir', 'event', 'pff_role', 'pff_positionLinedUp',\n",
       "       'pff_nflIdBlockedPlayer', 'pff_blockType', 'dropBackType',\n",
       "       'pff_playAction', 'ball_snap_frame', 'new_x', 'new_y', 'chip_side',\n",
       "       'end_frame', 'Left_end', 'Right_end', 'Flip', 'play_length_frames'],\n",
       "      dtype='object')"
      ]
     },
     "execution_count": 331,
     "metadata": {},
     "output_type": "execute_result"
    }
   ],
   "source": [
    "flipped.columns"
   ]
  },
  {
   "cell_type": "code",
   "execution_count": 332,
   "metadata": {},
   "outputs": [],
   "source": [
    "def name_func(pos):\n",
    "    temp = {'nflId':pos+'_nflId',\n",
    "     'jerseyNumber':pos+'_jerseyNumber',\n",
    "     'team':pos+'_team', \n",
    "     'x':pos+'_x', \n",
    "     'y':pos+'_y',\n",
    "     's':pos+'_s', \n",
    "     'a':pos+'_a', \n",
    "     'dis':pos+'_dis', \n",
    "     'o':pos+'_o', \n",
    "     'dir':pos+'_dir', \n",
    "     'pff_role':pos+'_pff_role', \n",
    "     'pff_positionLinedUp':pos+'_pff_positionLinedUp',\n",
    "     'pff_nflIdBlockedPlayer':pos+'_pff_nflIdBlockedPlayer', \n",
    "     'pff_blockType':pos+'_pff_blockType', \n",
    "     'new_x':pos+'_new_x', \n",
    "     'new_y':pos+'_new_y', \n",
    "     'Flip':pos+'_Flip'}\n",
    "    return temp"
   ]
  },
  {
   "cell_type": "code",
   "execution_count": 333,
   "metadata": {},
   "outputs": [],
   "source": [
    "qb = flipped[(flipped['pff_positionLinedUp']=='QB')]\n",
    "qb = qb.drop(['football_x', 'football_y', 'gameId', 'playId',\n",
    "       'time', 'playDirection', 'event', 'ball_snap_frame', 'end_frame', \n",
    "       'Right_end', 'Left_end', 'dropBackType', 'pff_playAction', 'play_length_frames',\n",
    "       'chip_side'], axis=1).rename(columns=name_func('QB')).reset_index(drop=True)"
   ]
  },
  {
   "cell_type": "code",
   "execution_count": 334,
   "metadata": {},
   "outputs": [],
   "source": [
    "qb_flip = flipped[(flipped['pff_positionLinedUp']=='QB_flip')]\n",
    "qb_flip = qb_flip.drop(['football_x', 'football_y', 'gameId', 'playId',\n",
    "       'time', 'playDirection', 'event', 'ball_snap_frame', 'end_frame', \n",
    "       'Right_end', 'Left_end', 'dropBackType', 'pff_playAction', 'play_length_frames',\n",
    "       'chip_side'], axis=1).rename(columns=name_func('QB')).reset_index(drop=True)"
   ]
  },
  {
   "cell_type": "code",
   "execution_count": 335,
   "metadata": {},
   "outputs": [],
   "source": [
    "ball = flipped[(flipped['pff_positionLinedUp']=='ball')]\n",
    "ball = ball.drop(['football_x', 'football_y', 'gameId', 'playId',\n",
    "       'time', 'playDirection', 'event', 'ball_snap_frame', 'end_frame', \n",
    "       'Right_end', 'Left_end', 'dropBackType', 'pff_playAction', 'play_length_frames',\n",
    "       'chip_side'], axis=1).rename(columns=name_func('ball')).reset_index(drop=True)"
   ]
  },
  {
   "cell_type": "code",
   "execution_count": 336,
   "metadata": {},
   "outputs": [],
   "source": [
    "ball_flip = flipped[(flipped['pff_positionLinedUp']=='ball_flip')]\n",
    "ball_flip = ball_flip.drop(['football_x', 'football_y', 'gameId', 'playId',\n",
    "       'time', 'playDirection', 'event', 'ball_snap_frame', 'end_frame', \n",
    "       'Right_end', 'Left_end', 'dropBackType', 'pff_playAction', 'play_length_frames',\n",
    "       'chip_side'], axis=1).rename(columns=name_func('ball')).reset_index(drop=True)\n"
   ]
  },
  {
   "cell_type": "code",
   "execution_count": 337,
   "metadata": {},
   "outputs": [],
   "source": [
    "rt = flipped[(flipped['pff_positionLinedUp']=='RT')]\n",
    "rt = rt.drop(['football_x', 'football_y', 'gameId', 'playId',\n",
    "       'time', 'playDirection', 'event', 'ball_snap_frame', 'end_frame', \n",
    "       'Right_end', 'Left_end', 'dropBackType', 'pff_playAction', 'play_length_frames',\n",
    "       'chip_side'], axis=1).rename(columns=name_func('Tackle')).reset_index(drop=True)"
   ]
  },
  {
   "cell_type": "code",
   "execution_count": 338,
   "metadata": {},
   "outputs": [],
   "source": [
    "lt = flipped[(flipped['pff_positionLinedUp']=='LT')]\n",
    "lt = lt.drop(['football_x', 'football_y', 'gameId', 'playId',\n",
    "       'time', 'playDirection', 'event', 'ball_snap_frame', 'end_frame', \n",
    "       'Right_end', 'Left_end', 'dropBackType', 'pff_playAction', 'play_length_frames',\n",
    "       'chip_side'], axis=1).rename(columns=name_func('Tackle')).reset_index(drop=True)"
   ]
  },
  {
   "cell_type": "code",
   "execution_count": 339,
   "metadata": {},
   "outputs": [],
   "source": [
    "le = flipped[((flipped['pff_role']=='Pass Rush')|(flipped['pff_role']=='Coverage'))&\n",
    "             (flipped['Flip']==1)]\n",
    "le = le.drop(['football_x', 'football_y', 'gameId', 'playId',\n",
    "       'time', 'playDirection', 'event', 'ball_snap_frame', 'end_frame', \n",
    "       'Right_end', 'Left_end', 'dropBackType', 'pff_playAction', 'play_length_frames',\n",
    "       'chip_side'], axis=1).rename(columns=name_func('End')).reset_index(drop=True)"
   ]
  },
  {
   "cell_type": "code",
   "execution_count": 340,
   "metadata": {},
   "outputs": [],
   "source": [
    "re = flipped[((flipped['pff_role']=='Pass Rush')|(flipped['pff_role']=='Coverage'))&\n",
    "             (flipped['Flip']==0)]\n",
    "re = re.drop(['football_x', 'football_y', 'gameId', 'playId',\n",
    "       'time', 'playDirection', 'event', 'ball_snap_frame', 'end_frame', \n",
    "       'Right_end', 'Left_end', 'dropBackType', 'pff_playAction', 'play_length_frames',\n",
    "       'chip_side'], axis=1).rename(columns=name_func('End')).reset_index(drop=True)"
   ]
  },
  {
   "cell_type": "code",
   "execution_count": 341,
   "metadata": {},
   "outputs": [],
   "source": [
    "play = flipped[(flipped['pff_positionLinedUp']=='QB')][['uniqueplayId', 'football_x', 'football_y', \n",
    "                                                        'gameId', 'playId', 'frameId', 'time', 'playDirection', \n",
    "                                                        'event', 'ball_snap_frame', 'end_frame', 'play_length_frames',\n",
    "                                                        'Right_end', 'Left_end']].reset_index(drop=True)"
   ]
  },
  {
   "cell_type": "code",
   "execution_count": 342,
   "metadata": {},
   "outputs": [],
   "source": [
    "final_left = play.merge(qb, on=['uniqueplayId', 'frameId'], how='left').merge(ball, on=['uniqueplayId', 'frameId'], how='left')"
   ]
  },
  {
   "cell_type": "code",
   "execution_count": 343,
   "metadata": {},
   "outputs": [],
   "source": [
    "final_left = final_left.merge(lt, on=['uniqueplayId', 'frameId'], how='left').merge(re, on=['uniqueplayId', 'frameId'], how='left')"
   ]
  },
  {
   "cell_type": "code",
   "execution_count": 344,
   "metadata": {},
   "outputs": [],
   "source": [
    "final_right = play.merge(qb_flip, on=['uniqueplayId', 'frameId'], how='left').merge(ball_flip, on=['uniqueplayId', 'frameId'], how='left')"
   ]
  },
  {
   "cell_type": "code",
   "execution_count": 345,
   "metadata": {},
   "outputs": [],
   "source": [
    "final_right = final_right.merge(rt, on=['uniqueplayId', 'frameId'], how='left').merge(le, on=['uniqueplayId', 'frameId'], how='left')"
   ]
  },
  {
   "cell_type": "code",
   "execution_count": 346,
   "metadata": {},
   "outputs": [],
   "source": [
    "final = pd.concat([final_left, final_right])"
   ]
  },
  {
   "cell_type": "code",
   "execution_count": 141,
   "metadata": {},
   "outputs": [],
   "source": [
    "play_ex = final[final['uniqueplayId']==20210919023392]"
   ]
  },
  {
   "attachments": {},
   "cell_type": "markdown",
   "metadata": {},
   "source": [
    "Before classifying:<br>\n",
    "> - Remove frames before ball is snapped and after it is thrown<br>\n",
    "> - Remove tackle and end where the end's pff_role is Coverage<br>\n",
    "> - First check: Remove plays where end moves into the inside (stunt)<br>\n",
    "> - Remove plays where the distance between end and tackle is large directly after ball snap (not against each other)<br>\n",
    "<br>\n",
    "\n",
    "### Classifying\n",
    "##### Clustering into two groups<br>\n",
    "Predictor variables:<br>\n",
    "> - Percentage that tackle/end are looking at each other <br>\n",
    "> - Percentage that Euclidian distance is less than 0.5 (0.75)<br>\n",
    "> - Total distance traveled of defensive end<br>\n",
    "> - Max speed during rush<br>"
   ]
  },
  {
   "cell_type": "code",
   "execution_count": 347,
   "metadata": {},
   "outputs": [],
   "source": [
    "def dist(x_1, y_1, x_2, y_2):\n",
    "    return np.sqrt(np.sum([(x_1-x_2)**2, (y_1-y_2)**2], axis=0))"
   ]
  },
  {
   "cell_type": "code",
   "execution_count": 348,
   "metadata": {},
   "outputs": [],
   "source": [
    "final['tackle_end_dist'] = dist(final['Tackle_new_x'], final['Tackle_new_y'], final['End_new_x'], final['End_new_y'])"
   ]
  },
  {
   "cell_type": "code",
   "execution_count": null,
   "metadata": {},
   "outputs": [],
   "source": []
  }
 ],
 "metadata": {
  "kernelspec": {
   "display_name": "pymc_env",
   "language": "python",
   "name": "python3"
  },
  "language_info": {
   "codemirror_mode": {
    "name": "ipython",
    "version": 3
   },
   "file_extension": ".py",
   "mimetype": "text/x-python",
   "name": "python",
   "nbconvert_exporter": "python",
   "pygments_lexer": "ipython3",
   "version": "3.10.6"
  },
  "orig_nbformat": 4,
  "vscode": {
   "interpreter": {
    "hash": "32df4045501e1dee4ac053c7247db62b4dfff37d7c8125e00ce00a6f03f886ad"
   }
  }
 },
 "nbformat": 4,
 "nbformat_minor": 2
}
